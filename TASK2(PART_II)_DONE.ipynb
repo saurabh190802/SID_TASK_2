{
  "nbformat": 4,
  "nbformat_minor": 0,
  "metadata": {
    "colab": {
      "name": "TASK2(PART II)_DONE.ipynb",
      "provenance": [],
      "collapsed_sections": []
    },
    "kernelspec": {
      "name": "python3",
      "display_name": "Python 3"
    },
    "language_info": {
      "name": "python"
    }
  },
  "cells": [
    {
      "cell_type": "markdown",
      "metadata": {
        "id": "xGyt4EYrAMuU"
      },
      "source": [
        "# <a href=\"https://colab.research.google.com/drive/1IYs-d6yOXdgLOAGJsbSDmsQKxAkvvOat?usp=sharing\">Click Here</a> to open this file on Google Colab"
      ]
    },
    {
      "cell_type": "markdown",
      "metadata": {
        "id": "hK6jomUE-rpH"
      },
      "source": [
        "# <center>**TASK2 (PART-ll)**"
      ]
    },
    {
      "cell_type": "markdown",
      "metadata": {
        "id": "SdQ2oLe0Rw6C"
      },
      "source": [
        "# <center>**EXPLORATORY DATA ANALYSIS**</center>"
      ]
    },
    {
      "cell_type": "markdown",
      "metadata": {
        "id": "YUJLERl4_0Qv"
      },
      "source": [
        "### <center>**EDA is one of the crucial step in data science that allows us to achieve certain insights and statistical measure that is essential for the business continuity, stockholders and data scientists.**\n",
        "\n",
        "![EDA.jfif](data:image/jpeg;base64,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) </center>"
      ]
    },
    {
      "cell_type": "markdown",
      "metadata": {
        "id": "jEQogWyICczQ"
      },
      "source": [
        "### **Steps involved in EDA**\n",
        "\n",
        "###The steps mentioned below are helpful in performing EDA.You are suggested to do it if applicable in the dataset.\n",
        "\n",
        "- Check the shape of the data frame.\n",
        "- Check for null values.\n",
        "- Convert the variables into appropriate data types if there is a mismatch.\n",
        "- Check for the frequency of different classes in case of a categorical variable.\n",
        "- Check for distribution of continuous variables\n",
        "\n",
        "###Below is a checklist to guide you while performing EDA.\n",
        "\n",
        "- What kind of data do you have?\n",
        "- What’s missing from the data?\n",
        "- Where are the outliers?\n",
        "- How can you add, change or remove features to get more out of your data?\n",
        "  - Feature Selection\n",
        "  - Handling missing values\n",
        "  - Handling skewed data\n",
        "  - Handling outliers\n",
        "  - Encoding\n",
        "  - Feature Scaling\n",
        "\n",
        "Finally we have the most important question, \n",
        "\"What question are you trying to solve ?\"  \n",
        "You need to think about questions you can ask of a dataset.  \n",
        "Questions can be simple as \"What is the number of survivors?\" or \n",
        "\"Which gender had a better chance of survival?\"  \n",
        "You goal is to formulate your questions and making inferences.\n",
        "\n",
        "\n",
        "### **Resources**\n",
        "Watching:\n",
        "\n",
        "- [EDA using Python](https://www.youtube.com/watch?v=-o3AxdVcUtQ)\n",
        "- [Feature Selection-How To Drop Features Using Pearson Correlation](https://www.youtube.com/watch?v=FndwYNcVe0U&list=PLZoTAELRMXVPgjwJ8VyRoqmfNs2CJwhVH&index=2)\n",
        "\n",
        "\n",
        "Reading:\n",
        "\n",
        "- [How to Handle Missing Data with Python](https://machinelearningmastery.com/handle-missing-data-python/)\n",
        "- [Handling Skewness in Machine Learning](https://beingdatum.com/handling-skewness-in-machine-learning/)\n",
        "- [Transforming Skewed Data for Machine Learning](https://opendatascience.com/transforming-skewed-data-for-machine-learning/)\n",
        "- [5 Ways to Detect Outliers/Anomalies That Every Data Scientist Should Know](https://towardsdatascience.com/5-ways-to-detect-outliers-that-every-data-scientist-should-know-python-code-70a54335a623)\n",
        "- [Box Plot Diagram to Identify Outliers](https://www.whatissixsigma.net/box-plot-diagram-to-identify-outliers/)\n",
        "- [Convert a categorical variable to a number for Machine Learning Model Building](https://towardsdatascience.com/all-about-categorical-variable-encoding-305f3361fd02)\n"
      ]
    },
    {
      "cell_type": "code",
      "metadata": {
        "id": "-ruv7wZhDagl",
        "colab": {
          "base_uri": "https://localhost:8080/"
        },
        "outputId": "f8aa9fba-6e9d-4bbd-8a75-6dfc83257a82"
      },
      "source": [
        "# run this cell before proceeding further\n",
        "!wget https://raw.githubusercontent.com/Spectrum-CETB/Data-Science-AI/main/Datasets/titanic.csv"
      ],
      "execution_count": 1,
      "outputs": [
        {
          "output_type": "stream",
          "text": [
            "--2021-07-06 13:42:07--  https://raw.githubusercontent.com/Spectrum-CETB/Data-Science-AI/main/Datasets/titanic.csv\n",
            "Resolving raw.githubusercontent.com (raw.githubusercontent.com)... 185.199.108.133, 185.199.109.133, 185.199.110.133, ...\n",
            "Connecting to raw.githubusercontent.com (raw.githubusercontent.com)|185.199.108.133|:443... connected.\n",
            "HTTP request sent, awaiting response... 200 OK\n",
            "Length: 61194 (60K) [text/plain]\n",
            "Saving to: ‘titanic.csv.4’\n",
            "\n",
            "\rtitanic.csv.4         0%[                    ]       0  --.-KB/s               \rtitanic.csv.4       100%[===================>]  59.76K  --.-KB/s    in 0.008s  \n",
            "\n",
            "2021-07-06 13:42:07 (7.42 MB/s) - ‘titanic.csv.4’ saved [61194/61194]\n",
            "\n"
          ],
          "name": "stdout"
        }
      ]
    },
    {
      "cell_type": "markdown",
      "metadata": {
        "id": "Nv3uwkinDa5B"
      },
      "source": [
        "*Make sure to run the above cell before loading the data*\n",
        "\n",
        "Use the 'titanic.csv' dataset for the questions in this section."
      ]
    },
    {
      "cell_type": "markdown",
      "metadata": {
        "id": "kobL5x94CfyS"
      },
      "source": [
        "#### **Using the concepts learnt till now perform EDA on the titanic datset**.\n",
        "\n",
        "#### The goal of this analysis is to analyse the data set, explore it answering related questions using data visualization and statistical methods.\n",
        "**With Titanic dataset analysis draw minimum 5 conclusions from  and also answer the following questions .**\n",
        "\n",
        "1)What is the overall passengers survival ratio?\n",
        "\n",
        "2)Which groups have higher chances for survival?\n"
      ]
    },
    {
      "cell_type": "code",
      "metadata": {
        "id": "mOBZUtsoErCp",
        "colab": {
          "base_uri": "https://localhost:8080/",
          "height": 206
        },
        "outputId": "ed785ae7-0ad9-4ce9-e29c-97d0e170a9c0"
      },
      "source": [
        "import pandas as pd\n",
        "import numpy as np\n",
        "import matplotlib.pyplot as plt \n",
        "import seaborn as sns\n",
        "plt.style.use('ggplot')\n",
        "%matplotlib inline\n",
        "import warnings\n",
        "warnings.filterwarnings(\"ignore\")     \n",
        "titanic = pd.read_csv('titanic.csv')\n",
        "titanic.head()"
      ],
      "execution_count": 2,
      "outputs": [
        {
          "output_type": "execute_result",
          "data": {
            "text/html": [
              "<div>\n",
              "<style scoped>\n",
              "    .dataframe tbody tr th:only-of-type {\n",
              "        vertical-align: middle;\n",
              "    }\n",
              "\n",
              "    .dataframe tbody tr th {\n",
              "        vertical-align: top;\n",
              "    }\n",
              "\n",
              "    .dataframe thead th {\n",
              "        text-align: right;\n",
              "    }\n",
              "</style>\n",
              "<table border=\"1\" class=\"dataframe\">\n",
              "  <thead>\n",
              "    <tr style=\"text-align: right;\">\n",
              "      <th></th>\n",
              "      <th>PassengerId</th>\n",
              "      <th>Survived</th>\n",
              "      <th>Pclass</th>\n",
              "      <th>Name</th>\n",
              "      <th>Sex</th>\n",
              "      <th>Age</th>\n",
              "      <th>SibSp</th>\n",
              "      <th>Parch</th>\n",
              "      <th>Ticket</th>\n",
              "      <th>Fare</th>\n",
              "      <th>Cabin</th>\n",
              "      <th>Embarked</th>\n",
              "    </tr>\n",
              "  </thead>\n",
              "  <tbody>\n",
              "    <tr>\n",
              "      <th>0</th>\n",
              "      <td>1</td>\n",
              "      <td>0</td>\n",
              "      <td>3</td>\n",
              "      <td>Braund, Mr. Owen Harris</td>\n",
              "      <td>male</td>\n",
              "      <td>22.0</td>\n",
              "      <td>1</td>\n",
              "      <td>0</td>\n",
              "      <td>A/5 21171</td>\n",
              "      <td>7.2500</td>\n",
              "      <td>NaN</td>\n",
              "      <td>S</td>\n",
              "    </tr>\n",
              "    <tr>\n",
              "      <th>1</th>\n",
              "      <td>2</td>\n",
              "      <td>1</td>\n",
              "      <td>1</td>\n",
              "      <td>Cumings, Mrs. John Bradley (Florence Briggs Th...</td>\n",
              "      <td>female</td>\n",
              "      <td>38.0</td>\n",
              "      <td>1</td>\n",
              "      <td>0</td>\n",
              "      <td>PC 17599</td>\n",
              "      <td>71.2833</td>\n",
              "      <td>C85</td>\n",
              "      <td>C</td>\n",
              "    </tr>\n",
              "    <tr>\n",
              "      <th>2</th>\n",
              "      <td>3</td>\n",
              "      <td>1</td>\n",
              "      <td>3</td>\n",
              "      <td>Heikkinen, Miss. Laina</td>\n",
              "      <td>female</td>\n",
              "      <td>26.0</td>\n",
              "      <td>0</td>\n",
              "      <td>0</td>\n",
              "      <td>STON/O2. 3101282</td>\n",
              "      <td>7.9250</td>\n",
              "      <td>NaN</td>\n",
              "      <td>S</td>\n",
              "    </tr>\n",
              "    <tr>\n",
              "      <th>3</th>\n",
              "      <td>4</td>\n",
              "      <td>1</td>\n",
              "      <td>1</td>\n",
              "      <td>Futrelle, Mrs. Jacques Heath (Lily May Peel)</td>\n",
              "      <td>female</td>\n",
              "      <td>35.0</td>\n",
              "      <td>1</td>\n",
              "      <td>0</td>\n",
              "      <td>113803</td>\n",
              "      <td>53.1000</td>\n",
              "      <td>C123</td>\n",
              "      <td>S</td>\n",
              "    </tr>\n",
              "    <tr>\n",
              "      <th>4</th>\n",
              "      <td>5</td>\n",
              "      <td>0</td>\n",
              "      <td>3</td>\n",
              "      <td>Allen, Mr. William Henry</td>\n",
              "      <td>male</td>\n",
              "      <td>35.0</td>\n",
              "      <td>0</td>\n",
              "      <td>0</td>\n",
              "      <td>373450</td>\n",
              "      <td>8.0500</td>\n",
              "      <td>NaN</td>\n",
              "      <td>S</td>\n",
              "    </tr>\n",
              "  </tbody>\n",
              "</table>\n",
              "</div>"
            ],
            "text/plain": [
              "   PassengerId  Survived  Pclass  ...     Fare Cabin  Embarked\n",
              "0            1         0       3  ...   7.2500   NaN         S\n",
              "1            2         1       1  ...  71.2833   C85         C\n",
              "2            3         1       3  ...   7.9250   NaN         S\n",
              "3            4         1       1  ...  53.1000  C123         S\n",
              "4            5         0       3  ...   8.0500   NaN         S\n",
              "\n",
              "[5 rows x 12 columns]"
            ]
          },
          "metadata": {
            "tags": []
          },
          "execution_count": 2
        }
      ]
    },
    {
      "cell_type": "markdown",
      "metadata": {
        "id": "oTVG9wHGttOu"
      },
      "source": [
        "## Visualizing the shape of data, the type of data , the missing values , unique counts , and building a data dictionary dataframe."
      ]
    },
    {
      "cell_type": "code",
      "metadata": {
        "id": "cAmTFHFlErAz",
        "colab": {
          "base_uri": "https://localhost:8080/"
        },
        "outputId": "a5ce40b0-8a94-4284-8353-a6115ab36f5e"
      },
      "source": [
        "titanic.shape"
      ],
      "execution_count": 3,
      "outputs": [
        {
          "output_type": "execute_result",
          "data": {
            "text/plain": [
              "(891, 12)"
            ]
          },
          "metadata": {
            "tags": []
          },
          "execution_count": 3
        }
      ]
    },
    {
      "cell_type": "code",
      "metadata": {
        "id": "JqD-olNXRvXK",
        "colab": {
          "base_uri": "https://localhost:8080/",
          "height": 425
        },
        "outputId": "39b38731-96a9-4e12-eefd-35cbbf10db5d"
      },
      "source": [
        "# Creating the Data Dictionary with first column being datatype.\n",
        "titanic_dict = pd.DataFrame(titanic.dtypes)\n",
        "titanic_dict"
      ],
      "execution_count": 4,
      "outputs": [
        {
          "output_type": "execute_result",
          "data": {
            "text/html": [
              "<div>\n",
              "<style scoped>\n",
              "    .dataframe tbody tr th:only-of-type {\n",
              "        vertical-align: middle;\n",
              "    }\n",
              "\n",
              "    .dataframe tbody tr th {\n",
              "        vertical-align: top;\n",
              "    }\n",
              "\n",
              "    .dataframe thead th {\n",
              "        text-align: right;\n",
              "    }\n",
              "</style>\n",
              "<table border=\"1\" class=\"dataframe\">\n",
              "  <thead>\n",
              "    <tr style=\"text-align: right;\">\n",
              "      <th></th>\n",
              "      <th>0</th>\n",
              "    </tr>\n",
              "  </thead>\n",
              "  <tbody>\n",
              "    <tr>\n",
              "      <th>PassengerId</th>\n",
              "      <td>int64</td>\n",
              "    </tr>\n",
              "    <tr>\n",
              "      <th>Survived</th>\n",
              "      <td>int64</td>\n",
              "    </tr>\n",
              "    <tr>\n",
              "      <th>Pclass</th>\n",
              "      <td>int64</td>\n",
              "    </tr>\n",
              "    <tr>\n",
              "      <th>Name</th>\n",
              "      <td>object</td>\n",
              "    </tr>\n",
              "    <tr>\n",
              "      <th>Sex</th>\n",
              "      <td>object</td>\n",
              "    </tr>\n",
              "    <tr>\n",
              "      <th>Age</th>\n",
              "      <td>float64</td>\n",
              "    </tr>\n",
              "    <tr>\n",
              "      <th>SibSp</th>\n",
              "      <td>int64</td>\n",
              "    </tr>\n",
              "    <tr>\n",
              "      <th>Parch</th>\n",
              "      <td>int64</td>\n",
              "    </tr>\n",
              "    <tr>\n",
              "      <th>Ticket</th>\n",
              "      <td>object</td>\n",
              "    </tr>\n",
              "    <tr>\n",
              "      <th>Fare</th>\n",
              "      <td>float64</td>\n",
              "    </tr>\n",
              "    <tr>\n",
              "      <th>Cabin</th>\n",
              "      <td>object</td>\n",
              "    </tr>\n",
              "    <tr>\n",
              "      <th>Embarked</th>\n",
              "      <td>object</td>\n",
              "    </tr>\n",
              "  </tbody>\n",
              "</table>\n",
              "</div>"
            ],
            "text/plain": [
              "                   0\n",
              "PassengerId    int64\n",
              "Survived       int64\n",
              "Pclass         int64\n",
              "Name          object\n",
              "Sex           object\n",
              "Age          float64\n",
              "SibSp          int64\n",
              "Parch          int64\n",
              "Ticket        object\n",
              "Fare         float64\n",
              "Cabin         object\n",
              "Embarked      object"
            ]
          },
          "metadata": {
            "tags": []
          },
          "execution_count": 4
        }
      ]
    },
    {
      "cell_type": "code",
      "metadata": {
        "colab": {
          "base_uri": "https://localhost:8080/",
          "height": 425
        },
        "id": "sdxF4NsjuUf4",
        "outputId": "37c13064-f47b-4c0c-a08b-ef545ead1c41"
      },
      "source": [
        "# identifying the missing values from the dataset.\n",
        "\n",
        "titanic_dict['MissingVal'] = titanic.isnull().sum()\n",
        "titanic_dict"
      ],
      "execution_count": 5,
      "outputs": [
        {
          "output_type": "execute_result",
          "data": {
            "text/html": [
              "<div>\n",
              "<style scoped>\n",
              "    .dataframe tbody tr th:only-of-type {\n",
              "        vertical-align: middle;\n",
              "    }\n",
              "\n",
              "    .dataframe tbody tr th {\n",
              "        vertical-align: top;\n",
              "    }\n",
              "\n",
              "    .dataframe thead th {\n",
              "        text-align: right;\n",
              "    }\n",
              "</style>\n",
              "<table border=\"1\" class=\"dataframe\">\n",
              "  <thead>\n",
              "    <tr style=\"text-align: right;\">\n",
              "      <th></th>\n",
              "      <th>0</th>\n",
              "      <th>MissingVal</th>\n",
              "    </tr>\n",
              "  </thead>\n",
              "  <tbody>\n",
              "    <tr>\n",
              "      <th>PassengerId</th>\n",
              "      <td>int64</td>\n",
              "      <td>0</td>\n",
              "    </tr>\n",
              "    <tr>\n",
              "      <th>Survived</th>\n",
              "      <td>int64</td>\n",
              "      <td>0</td>\n",
              "    </tr>\n",
              "    <tr>\n",
              "      <th>Pclass</th>\n",
              "      <td>int64</td>\n",
              "      <td>0</td>\n",
              "    </tr>\n",
              "    <tr>\n",
              "      <th>Name</th>\n",
              "      <td>object</td>\n",
              "      <td>0</td>\n",
              "    </tr>\n",
              "    <tr>\n",
              "      <th>Sex</th>\n",
              "      <td>object</td>\n",
              "      <td>0</td>\n",
              "    </tr>\n",
              "    <tr>\n",
              "      <th>Age</th>\n",
              "      <td>float64</td>\n",
              "      <td>177</td>\n",
              "    </tr>\n",
              "    <tr>\n",
              "      <th>SibSp</th>\n",
              "      <td>int64</td>\n",
              "      <td>0</td>\n",
              "    </tr>\n",
              "    <tr>\n",
              "      <th>Parch</th>\n",
              "      <td>int64</td>\n",
              "      <td>0</td>\n",
              "    </tr>\n",
              "    <tr>\n",
              "      <th>Ticket</th>\n",
              "      <td>object</td>\n",
              "      <td>0</td>\n",
              "    </tr>\n",
              "    <tr>\n",
              "      <th>Fare</th>\n",
              "      <td>float64</td>\n",
              "      <td>0</td>\n",
              "    </tr>\n",
              "    <tr>\n",
              "      <th>Cabin</th>\n",
              "      <td>object</td>\n",
              "      <td>687</td>\n",
              "    </tr>\n",
              "    <tr>\n",
              "      <th>Embarked</th>\n",
              "      <td>object</td>\n",
              "      <td>2</td>\n",
              "    </tr>\n",
              "  </tbody>\n",
              "</table>\n",
              "</div>"
            ],
            "text/plain": [
              "                   0  MissingVal\n",
              "PassengerId    int64           0\n",
              "Survived       int64           0\n",
              "Pclass         int64           0\n",
              "Name          object           0\n",
              "Sex           object           0\n",
              "Age          float64         177\n",
              "SibSp          int64           0\n",
              "Parch          int64           0\n",
              "Ticket        object           0\n",
              "Fare         float64           0\n",
              "Cabin         object         687\n",
              "Embarked      object           2"
            ]
          },
          "metadata": {
            "tags": []
          },
          "execution_count": 5
        }
      ]
    },
    {
      "cell_type": "code",
      "metadata": {
        "colab": {
          "base_uri": "https://localhost:8080/"
        },
        "id": "iIYnUaNFz3v6",
        "outputId": "807eee1c-8220-4970-c996-da825e25b40c"
      },
      "source": [
        "#checking which columns are containing null values and which are not \n",
        "# True means column contains null value , False means column does not contains any type of null value\n",
        "print(titanic.isnull().any())"
      ],
      "execution_count": 6,
      "outputs": [
        {
          "output_type": "stream",
          "text": [
            "PassengerId    False\n",
            "Survived       False\n",
            "Pclass         False\n",
            "Name           False\n",
            "Sex            False\n",
            "Age             True\n",
            "SibSp          False\n",
            "Parch          False\n",
            "Ticket         False\n",
            "Fare           False\n",
            "Cabin           True\n",
            "Embarked        True\n",
            "dtype: bool\n"
          ],
          "name": "stdout"
        }
      ]
    },
    {
      "cell_type": "code",
      "metadata": {
        "colab": {
          "base_uri": "https://localhost:8080/",
          "height": 425
        },
        "id": "IBEwIxcsufsn",
        "outputId": "54b968ed-21a3-4cea-c4ce-afba41fb2d73"
      },
      "source": [
        "# Identifying unique values . For this I've used nunique() which returns unique elements in the object.\n",
        "titanic_dict['UniqueVal'] = titanic.nunique()\n",
        "titanic_dict"
      ],
      "execution_count": 7,
      "outputs": [
        {
          "output_type": "execute_result",
          "data": {
            "text/html": [
              "<div>\n",
              "<style scoped>\n",
              "    .dataframe tbody tr th:only-of-type {\n",
              "        vertical-align: middle;\n",
              "    }\n",
              "\n",
              "    .dataframe tbody tr th {\n",
              "        vertical-align: top;\n",
              "    }\n",
              "\n",
              "    .dataframe thead th {\n",
              "        text-align: right;\n",
              "    }\n",
              "</style>\n",
              "<table border=\"1\" class=\"dataframe\">\n",
              "  <thead>\n",
              "    <tr style=\"text-align: right;\">\n",
              "      <th></th>\n",
              "      <th>0</th>\n",
              "      <th>MissingVal</th>\n",
              "      <th>UniqueVal</th>\n",
              "    </tr>\n",
              "  </thead>\n",
              "  <tbody>\n",
              "    <tr>\n",
              "      <th>PassengerId</th>\n",
              "      <td>int64</td>\n",
              "      <td>0</td>\n",
              "      <td>891</td>\n",
              "    </tr>\n",
              "    <tr>\n",
              "      <th>Survived</th>\n",
              "      <td>int64</td>\n",
              "      <td>0</td>\n",
              "      <td>2</td>\n",
              "    </tr>\n",
              "    <tr>\n",
              "      <th>Pclass</th>\n",
              "      <td>int64</td>\n",
              "      <td>0</td>\n",
              "      <td>3</td>\n",
              "    </tr>\n",
              "    <tr>\n",
              "      <th>Name</th>\n",
              "      <td>object</td>\n",
              "      <td>0</td>\n",
              "      <td>891</td>\n",
              "    </tr>\n",
              "    <tr>\n",
              "      <th>Sex</th>\n",
              "      <td>object</td>\n",
              "      <td>0</td>\n",
              "      <td>2</td>\n",
              "    </tr>\n",
              "    <tr>\n",
              "      <th>Age</th>\n",
              "      <td>float64</td>\n",
              "      <td>177</td>\n",
              "      <td>88</td>\n",
              "    </tr>\n",
              "    <tr>\n",
              "      <th>SibSp</th>\n",
              "      <td>int64</td>\n",
              "      <td>0</td>\n",
              "      <td>7</td>\n",
              "    </tr>\n",
              "    <tr>\n",
              "      <th>Parch</th>\n",
              "      <td>int64</td>\n",
              "      <td>0</td>\n",
              "      <td>7</td>\n",
              "    </tr>\n",
              "    <tr>\n",
              "      <th>Ticket</th>\n",
              "      <td>object</td>\n",
              "      <td>0</td>\n",
              "      <td>681</td>\n",
              "    </tr>\n",
              "    <tr>\n",
              "      <th>Fare</th>\n",
              "      <td>float64</td>\n",
              "      <td>0</td>\n",
              "      <td>248</td>\n",
              "    </tr>\n",
              "    <tr>\n",
              "      <th>Cabin</th>\n",
              "      <td>object</td>\n",
              "      <td>687</td>\n",
              "      <td>147</td>\n",
              "    </tr>\n",
              "    <tr>\n",
              "      <th>Embarked</th>\n",
              "      <td>object</td>\n",
              "      <td>2</td>\n",
              "      <td>3</td>\n",
              "    </tr>\n",
              "  </tbody>\n",
              "</table>\n",
              "</div>"
            ],
            "text/plain": [
              "                   0  MissingVal  UniqueVal\n",
              "PassengerId    int64           0        891\n",
              "Survived       int64           0          2\n",
              "Pclass         int64           0          3\n",
              "Name          object           0        891\n",
              "Sex           object           0          2\n",
              "Age          float64         177         88\n",
              "SibSp          int64           0          7\n",
              "Parch          int64           0          7\n",
              "Ticket        object           0        681\n",
              "Fare         float64           0        248\n",
              "Cabin         object         687        147\n",
              "Embarked      object           2          3"
            ]
          },
          "metadata": {
            "tags": []
          },
          "execution_count": 7
        }
      ]
    },
    {
      "cell_type": "code",
      "metadata": {
        "colab": {
          "base_uri": "https://localhost:8080/",
          "height": 425
        },
        "id": "5c6zVqY0ufwM",
        "outputId": "ff0b0262-5a7d-4897-f8e7-11d3aa733cff"
      },
      "source": [
        "# identifying count of the variable.\n",
        "titanic_dict['Count'] = titanic.count()\n",
        "titanic_dict"
      ],
      "execution_count": 8,
      "outputs": [
        {
          "output_type": "execute_result",
          "data": {
            "text/html": [
              "<div>\n",
              "<style scoped>\n",
              "    .dataframe tbody tr th:only-of-type {\n",
              "        vertical-align: middle;\n",
              "    }\n",
              "\n",
              "    .dataframe tbody tr th {\n",
              "        vertical-align: top;\n",
              "    }\n",
              "\n",
              "    .dataframe thead th {\n",
              "        text-align: right;\n",
              "    }\n",
              "</style>\n",
              "<table border=\"1\" class=\"dataframe\">\n",
              "  <thead>\n",
              "    <tr style=\"text-align: right;\">\n",
              "      <th></th>\n",
              "      <th>0</th>\n",
              "      <th>MissingVal</th>\n",
              "      <th>UniqueVal</th>\n",
              "      <th>Count</th>\n",
              "    </tr>\n",
              "  </thead>\n",
              "  <tbody>\n",
              "    <tr>\n",
              "      <th>PassengerId</th>\n",
              "      <td>int64</td>\n",
              "      <td>0</td>\n",
              "      <td>891</td>\n",
              "      <td>891</td>\n",
              "    </tr>\n",
              "    <tr>\n",
              "      <th>Survived</th>\n",
              "      <td>int64</td>\n",
              "      <td>0</td>\n",
              "      <td>2</td>\n",
              "      <td>891</td>\n",
              "    </tr>\n",
              "    <tr>\n",
              "      <th>Pclass</th>\n",
              "      <td>int64</td>\n",
              "      <td>0</td>\n",
              "      <td>3</td>\n",
              "      <td>891</td>\n",
              "    </tr>\n",
              "    <tr>\n",
              "      <th>Name</th>\n",
              "      <td>object</td>\n",
              "      <td>0</td>\n",
              "      <td>891</td>\n",
              "      <td>891</td>\n",
              "    </tr>\n",
              "    <tr>\n",
              "      <th>Sex</th>\n",
              "      <td>object</td>\n",
              "      <td>0</td>\n",
              "      <td>2</td>\n",
              "      <td>891</td>\n",
              "    </tr>\n",
              "    <tr>\n",
              "      <th>Age</th>\n",
              "      <td>float64</td>\n",
              "      <td>177</td>\n",
              "      <td>88</td>\n",
              "      <td>714</td>\n",
              "    </tr>\n",
              "    <tr>\n",
              "      <th>SibSp</th>\n",
              "      <td>int64</td>\n",
              "      <td>0</td>\n",
              "      <td>7</td>\n",
              "      <td>891</td>\n",
              "    </tr>\n",
              "    <tr>\n",
              "      <th>Parch</th>\n",
              "      <td>int64</td>\n",
              "      <td>0</td>\n",
              "      <td>7</td>\n",
              "      <td>891</td>\n",
              "    </tr>\n",
              "    <tr>\n",
              "      <th>Ticket</th>\n",
              "      <td>object</td>\n",
              "      <td>0</td>\n",
              "      <td>681</td>\n",
              "      <td>891</td>\n",
              "    </tr>\n",
              "    <tr>\n",
              "      <th>Fare</th>\n",
              "      <td>float64</td>\n",
              "      <td>0</td>\n",
              "      <td>248</td>\n",
              "      <td>891</td>\n",
              "    </tr>\n",
              "    <tr>\n",
              "      <th>Cabin</th>\n",
              "      <td>object</td>\n",
              "      <td>687</td>\n",
              "      <td>147</td>\n",
              "      <td>204</td>\n",
              "    </tr>\n",
              "    <tr>\n",
              "      <th>Embarked</th>\n",
              "      <td>object</td>\n",
              "      <td>2</td>\n",
              "      <td>3</td>\n",
              "      <td>889</td>\n",
              "    </tr>\n",
              "  </tbody>\n",
              "</table>\n",
              "</div>"
            ],
            "text/plain": [
              "                   0  MissingVal  UniqueVal  Count\n",
              "PassengerId    int64           0        891    891\n",
              "Survived       int64           0          2    891\n",
              "Pclass         int64           0          3    891\n",
              "Name          object           0        891    891\n",
              "Sex           object           0          2    891\n",
              "Age          float64         177         88    714\n",
              "SibSp          int64           0          7    891\n",
              "Parch          int64           0          7    891\n",
              "Ticket        object           0        681    891\n",
              "Fare         float64           0        248    891\n",
              "Cabin         object         687        147    204\n",
              "Embarked      object           2          3    889"
            ]
          },
          "metadata": {
            "tags": []
          },
          "execution_count": 8
        }
      ]
    },
    {
      "cell_type": "code",
      "metadata": {
        "colab": {
          "base_uri": "https://localhost:8080/",
          "height": 425
        },
        "id": "jyZy8JRnufzm",
        "outputId": "3f845688-4f61-4121-894c-45bce33e84e7"
      },
      "source": [
        "# renaming the first column using rename()\n",
        "titanic_dict = titanic_dict.rename(columns = {0:'DataType'})\n",
        "titanic_dict"
      ],
      "execution_count": 9,
      "outputs": [
        {
          "output_type": "execute_result",
          "data": {
            "text/html": [
              "<div>\n",
              "<style scoped>\n",
              "    .dataframe tbody tr th:only-of-type {\n",
              "        vertical-align: middle;\n",
              "    }\n",
              "\n",
              "    .dataframe tbody tr th {\n",
              "        vertical-align: top;\n",
              "    }\n",
              "\n",
              "    .dataframe thead th {\n",
              "        text-align: right;\n",
              "    }\n",
              "</style>\n",
              "<table border=\"1\" class=\"dataframe\">\n",
              "  <thead>\n",
              "    <tr style=\"text-align: right;\">\n",
              "      <th></th>\n",
              "      <th>DataType</th>\n",
              "      <th>MissingVal</th>\n",
              "      <th>UniqueVal</th>\n",
              "      <th>Count</th>\n",
              "    </tr>\n",
              "  </thead>\n",
              "  <tbody>\n",
              "    <tr>\n",
              "      <th>PassengerId</th>\n",
              "      <td>int64</td>\n",
              "      <td>0</td>\n",
              "      <td>891</td>\n",
              "      <td>891</td>\n",
              "    </tr>\n",
              "    <tr>\n",
              "      <th>Survived</th>\n",
              "      <td>int64</td>\n",
              "      <td>0</td>\n",
              "      <td>2</td>\n",
              "      <td>891</td>\n",
              "    </tr>\n",
              "    <tr>\n",
              "      <th>Pclass</th>\n",
              "      <td>int64</td>\n",
              "      <td>0</td>\n",
              "      <td>3</td>\n",
              "      <td>891</td>\n",
              "    </tr>\n",
              "    <tr>\n",
              "      <th>Name</th>\n",
              "      <td>object</td>\n",
              "      <td>0</td>\n",
              "      <td>891</td>\n",
              "      <td>891</td>\n",
              "    </tr>\n",
              "    <tr>\n",
              "      <th>Sex</th>\n",
              "      <td>object</td>\n",
              "      <td>0</td>\n",
              "      <td>2</td>\n",
              "      <td>891</td>\n",
              "    </tr>\n",
              "    <tr>\n",
              "      <th>Age</th>\n",
              "      <td>float64</td>\n",
              "      <td>177</td>\n",
              "      <td>88</td>\n",
              "      <td>714</td>\n",
              "    </tr>\n",
              "    <tr>\n",
              "      <th>SibSp</th>\n",
              "      <td>int64</td>\n",
              "      <td>0</td>\n",
              "      <td>7</td>\n",
              "      <td>891</td>\n",
              "    </tr>\n",
              "    <tr>\n",
              "      <th>Parch</th>\n",
              "      <td>int64</td>\n",
              "      <td>0</td>\n",
              "      <td>7</td>\n",
              "      <td>891</td>\n",
              "    </tr>\n",
              "    <tr>\n",
              "      <th>Ticket</th>\n",
              "      <td>object</td>\n",
              "      <td>0</td>\n",
              "      <td>681</td>\n",
              "      <td>891</td>\n",
              "    </tr>\n",
              "    <tr>\n",
              "      <th>Fare</th>\n",
              "      <td>float64</td>\n",
              "      <td>0</td>\n",
              "      <td>248</td>\n",
              "      <td>891</td>\n",
              "    </tr>\n",
              "    <tr>\n",
              "      <th>Cabin</th>\n",
              "      <td>object</td>\n",
              "      <td>687</td>\n",
              "      <td>147</td>\n",
              "      <td>204</td>\n",
              "    </tr>\n",
              "    <tr>\n",
              "      <th>Embarked</th>\n",
              "      <td>object</td>\n",
              "      <td>2</td>\n",
              "      <td>3</td>\n",
              "      <td>889</td>\n",
              "    </tr>\n",
              "  </tbody>\n",
              "</table>\n",
              "</div>"
            ],
            "text/plain": [
              "            DataType  MissingVal  UniqueVal  Count\n",
              "PassengerId    int64           0        891    891\n",
              "Survived       int64           0          2    891\n",
              "Pclass         int64           0          3    891\n",
              "Name          object           0        891    891\n",
              "Sex           object           0          2    891\n",
              "Age          float64         177         88    714\n",
              "SibSp          int64           0          7    891\n",
              "Parch          int64           0          7    891\n",
              "Ticket        object           0        681    891\n",
              "Fare         float64           0        248    891\n",
              "Cabin         object         687        147    204\n",
              "Embarked      object           2          3    889"
            ]
          },
          "metadata": {
            "tags": []
          },
          "execution_count": 9
        }
      ]
    },
    {
      "cell_type": "markdown",
      "metadata": {
        "id": "VUlCwX4_vEPT"
      },
      "source": [
        "# Discriptive statistics on objects and other numerical datatypes."
      ]
    },
    {
      "cell_type": "code",
      "metadata": {
        "colab": {
          "base_uri": "https://localhost:8080/",
          "height": 175
        },
        "id": "ywNtycYTuf2-",
        "outputId": "5277fa4a-38b6-439d-b2d7-3187850690c2"
      },
      "source": [
        "# discriptive statistics on \"objects\" datatypes\n",
        "titanic.describe(include = ['object'])"
      ],
      "execution_count": 10,
      "outputs": [
        {
          "output_type": "execute_result",
          "data": {
            "text/html": [
              "<div>\n",
              "<style scoped>\n",
              "    .dataframe tbody tr th:only-of-type {\n",
              "        vertical-align: middle;\n",
              "    }\n",
              "\n",
              "    .dataframe tbody tr th {\n",
              "        vertical-align: top;\n",
              "    }\n",
              "\n",
              "    .dataframe thead th {\n",
              "        text-align: right;\n",
              "    }\n",
              "</style>\n",
              "<table border=\"1\" class=\"dataframe\">\n",
              "  <thead>\n",
              "    <tr style=\"text-align: right;\">\n",
              "      <th></th>\n",
              "      <th>Name</th>\n",
              "      <th>Sex</th>\n",
              "      <th>Ticket</th>\n",
              "      <th>Cabin</th>\n",
              "      <th>Embarked</th>\n",
              "    </tr>\n",
              "  </thead>\n",
              "  <tbody>\n",
              "    <tr>\n",
              "      <th>count</th>\n",
              "      <td>891</td>\n",
              "      <td>891</td>\n",
              "      <td>891</td>\n",
              "      <td>204</td>\n",
              "      <td>889</td>\n",
              "    </tr>\n",
              "    <tr>\n",
              "      <th>unique</th>\n",
              "      <td>891</td>\n",
              "      <td>2</td>\n",
              "      <td>681</td>\n",
              "      <td>147</td>\n",
              "      <td>3</td>\n",
              "    </tr>\n",
              "    <tr>\n",
              "      <th>top</th>\n",
              "      <td>Bryhl, Mr. Kurt Arnold Gottfrid</td>\n",
              "      <td>male</td>\n",
              "      <td>347082</td>\n",
              "      <td>B96 B98</td>\n",
              "      <td>S</td>\n",
              "    </tr>\n",
              "    <tr>\n",
              "      <th>freq</th>\n",
              "      <td>1</td>\n",
              "      <td>577</td>\n",
              "      <td>7</td>\n",
              "      <td>4</td>\n",
              "      <td>644</td>\n",
              "    </tr>\n",
              "  </tbody>\n",
              "</table>\n",
              "</div>"
            ],
            "text/plain": [
              "                                   Name   Sex  Ticket    Cabin Embarked\n",
              "count                               891   891     891      204      889\n",
              "unique                              891     2     681      147        3\n",
              "top     Bryhl, Mr. Kurt Arnold Gottfrid  male  347082  B96 B98        S\n",
              "freq                                  1   577       7        4      644"
            ]
          },
          "metadata": {
            "tags": []
          },
          "execution_count": 10
        }
      ]
    },
    {
      "cell_type": "code",
      "metadata": {
        "colab": {
          "base_uri": "https://localhost:8080/",
          "height": 300
        },
        "id": "vgF4PKsquf6C",
        "outputId": "ea787280-101b-4bad-8dfa-8cc9ccac734f"
      },
      "source": [
        "# get discriptive statistics on \"number\" datatypes\n",
        "titanic.describe(include = ['number'])"
      ],
      "execution_count": 11,
      "outputs": [
        {
          "output_type": "execute_result",
          "data": {
            "text/html": [
              "<div>\n",
              "<style scoped>\n",
              "    .dataframe tbody tr th:only-of-type {\n",
              "        vertical-align: middle;\n",
              "    }\n",
              "\n",
              "    .dataframe tbody tr th {\n",
              "        vertical-align: top;\n",
              "    }\n",
              "\n",
              "    .dataframe thead th {\n",
              "        text-align: right;\n",
              "    }\n",
              "</style>\n",
              "<table border=\"1\" class=\"dataframe\">\n",
              "  <thead>\n",
              "    <tr style=\"text-align: right;\">\n",
              "      <th></th>\n",
              "      <th>PassengerId</th>\n",
              "      <th>Survived</th>\n",
              "      <th>Pclass</th>\n",
              "      <th>Age</th>\n",
              "      <th>SibSp</th>\n",
              "      <th>Parch</th>\n",
              "      <th>Fare</th>\n",
              "    </tr>\n",
              "  </thead>\n",
              "  <tbody>\n",
              "    <tr>\n",
              "      <th>count</th>\n",
              "      <td>891.000000</td>\n",
              "      <td>891.000000</td>\n",
              "      <td>891.000000</td>\n",
              "      <td>714.000000</td>\n",
              "      <td>891.000000</td>\n",
              "      <td>891.000000</td>\n",
              "      <td>891.000000</td>\n",
              "    </tr>\n",
              "    <tr>\n",
              "      <th>mean</th>\n",
              "      <td>446.000000</td>\n",
              "      <td>0.383838</td>\n",
              "      <td>2.308642</td>\n",
              "      <td>29.699118</td>\n",
              "      <td>0.523008</td>\n",
              "      <td>0.381594</td>\n",
              "      <td>32.204208</td>\n",
              "    </tr>\n",
              "    <tr>\n",
              "      <th>std</th>\n",
              "      <td>257.353842</td>\n",
              "      <td>0.486592</td>\n",
              "      <td>0.836071</td>\n",
              "      <td>14.526497</td>\n",
              "      <td>1.102743</td>\n",
              "      <td>0.806057</td>\n",
              "      <td>49.693429</td>\n",
              "    </tr>\n",
              "    <tr>\n",
              "      <th>min</th>\n",
              "      <td>1.000000</td>\n",
              "      <td>0.000000</td>\n",
              "      <td>1.000000</td>\n",
              "      <td>0.420000</td>\n",
              "      <td>0.000000</td>\n",
              "      <td>0.000000</td>\n",
              "      <td>0.000000</td>\n",
              "    </tr>\n",
              "    <tr>\n",
              "      <th>25%</th>\n",
              "      <td>223.500000</td>\n",
              "      <td>0.000000</td>\n",
              "      <td>2.000000</td>\n",
              "      <td>20.125000</td>\n",
              "      <td>0.000000</td>\n",
              "      <td>0.000000</td>\n",
              "      <td>7.910400</td>\n",
              "    </tr>\n",
              "    <tr>\n",
              "      <th>50%</th>\n",
              "      <td>446.000000</td>\n",
              "      <td>0.000000</td>\n",
              "      <td>3.000000</td>\n",
              "      <td>28.000000</td>\n",
              "      <td>0.000000</td>\n",
              "      <td>0.000000</td>\n",
              "      <td>14.454200</td>\n",
              "    </tr>\n",
              "    <tr>\n",
              "      <th>75%</th>\n",
              "      <td>668.500000</td>\n",
              "      <td>1.000000</td>\n",
              "      <td>3.000000</td>\n",
              "      <td>38.000000</td>\n",
              "      <td>1.000000</td>\n",
              "      <td>0.000000</td>\n",
              "      <td>31.000000</td>\n",
              "    </tr>\n",
              "    <tr>\n",
              "      <th>max</th>\n",
              "      <td>891.000000</td>\n",
              "      <td>1.000000</td>\n",
              "      <td>3.000000</td>\n",
              "      <td>80.000000</td>\n",
              "      <td>8.000000</td>\n",
              "      <td>6.000000</td>\n",
              "      <td>512.329200</td>\n",
              "    </tr>\n",
              "  </tbody>\n",
              "</table>\n",
              "</div>"
            ],
            "text/plain": [
              "       PassengerId    Survived      Pclass  ...       SibSp       Parch        Fare\n",
              "count   891.000000  891.000000  891.000000  ...  891.000000  891.000000  891.000000\n",
              "mean    446.000000    0.383838    2.308642  ...    0.523008    0.381594   32.204208\n",
              "std     257.353842    0.486592    0.836071  ...    1.102743    0.806057   49.693429\n",
              "min       1.000000    0.000000    1.000000  ...    0.000000    0.000000    0.000000\n",
              "25%     223.500000    0.000000    2.000000  ...    0.000000    0.000000    7.910400\n",
              "50%     446.000000    0.000000    3.000000  ...    0.000000    0.000000   14.454200\n",
              "75%     668.500000    1.000000    3.000000  ...    1.000000    0.000000   31.000000\n",
              "max     891.000000    1.000000    3.000000  ...    8.000000    6.000000  512.329200\n",
              "\n",
              "[8 rows x 7 columns]"
            ]
          },
          "metadata": {
            "tags": []
          },
          "execution_count": 11
        }
      ]
    },
    {
      "cell_type": "markdown",
      "metadata": {
        "id": "DfmpLDVnvZpQ"
      },
      "source": [
        "# Applying Univariate and Multivariate Data Analysis using graphical representations"
      ]
    },
    {
      "cell_type": "markdown",
      "metadata": {
        "id": "w0KcL9uCveov"
      },
      "source": [
        "# Univariate Data Analysis"
      ]
    },
    {
      "cell_type": "code",
      "metadata": {
        "colab": {
          "base_uri": "https://localhost:8080/",
          "height": 627
        },
        "id": "jGWmb8UpveA6",
        "outputId": "bae5602d-2923-45ea-c820-78b5ae5eedda"
      },
      "source": [
        "ig , axes = plt.subplots(2, 4, figsize = (16,10) )\n",
        "sns.countplot('Survived' , data = titanic, ax = axes[0,0])\n",
        "sns.countplot('Pclass' , data = titanic, ax = axes[0,1])\n",
        "sns.countplot('Sex' , data = titanic, ax = axes[0,2])\n",
        "sns.countplot('SibSp' , data = titanic, ax = axes[0,3])\n",
        "sns.countplot('Parch' , data = titanic, ax = axes[1,0])\n",
        "sns.countplot('Embarked' , data = titanic, ax = axes[1,1])\n",
        "sns.distplot(titanic['Fare'] , kde = True , ax = axes[1,2])\n",
        "sns.distplot(titanic['Age'].dropna() , kde = True , ax = axes[1,3])"
      ],
      "execution_count": 12,
      "outputs": [
        {
          "output_type": "execute_result",
          "data": {
            "text/plain": [
              "<matplotlib.axes._subplots.AxesSubplot at 0x7fb85f10e750>"
            ]
          },
          "metadata": {
            "tags": []
          },
          "execution_count": 12
        },
        {
          "output_type": "display_data",
          "data": {
            "image/png": "[encoded data removed]",
            "text/plain": [
              "<Figure size 1152x720 with 8 Axes>"
            ]
          },
          "metadata": {
            "tags": [],
            "needs_background": "light"
          }
        }
      ]
    },
    {
      "cell_type": "markdown",
      "metadata": {
        "id": "OTZIafXdwO0M"
      },
      "source": [
        "# Bivariate Data Analysis"
      ]
    },
    {
      "cell_type": "code",
      "metadata": {
        "colab": {
          "base_uri": "https://localhost:8080/",
          "height": 451
        },
        "id": "Usd5kTy3uf8Z",
        "outputId": "3f5475a8-4ed5-4ec2-d74e-aa227aa33d08"
      },
      "source": [
        "Pclass_survival = titanic[titanic.Survived == 1]\n",
        "Pclass_survival.head()\n",
        "ax = Pclass_survival.Pclass.value_counts().plot(kind='bar', figsize=(10,7),fontsize=13,color = 'blue');\n",
        "plt.xticks(np.arange(3), ['Pclass1' , 'Pclass3','Pclass2'] , rotation = 0)\n",
        "ax.set_alpha(0.8)\n",
        "ax.set_title(\" Survival Rate vs Class \", fontsize=18)\n",
        "\n",
        "# creating a list to collect the plt.patches data\n",
        "totals = []\n",
        "\n",
        "# finding the values and append to list\n",
        "for i in ax.patches:\n",
        "    totals.append(i.get_height())\n",
        "\n",
        "# setting individual bar lables using above list\n",
        "total = sum(totals)\n",
        "\n",
        "# setting individual bar lables using above list\n",
        "for i in ax.patches:\n",
        "    # get_x pulls left or right; get_height pushes up or down\n",
        "    ax.text(i.get_x()+.04, i.get_height()-8, \\\n",
        "            str(round((i.get_height()/total)*100, 2))+'%', fontsize=22,\n",
        "                color='white')"
      ],
      "execution_count": 13,
      "outputs": [
        {
          "output_type": "display_data",
          "data": {
            "image/png": "[encoded data removed]",
            "text/plain": [
              "<Figure size 720x504 with 1 Axes>"
            ]
          },
          "metadata": {
            "tags": [],
            "needs_background": "light"
          }
        }
      ]
    },
    {
      "cell_type": "markdown",
      "metadata": {
        "id": "PAgvSY1dwzTh"
      },
      "source": [
        "# Joint Plot"
      ]
    },
    {
      "cell_type": "code",
      "metadata": {
        "colab": {
          "base_uri": "https://localhost:8080/",
          "height": 441
        },
        "id": "Mah7MP38wwXx",
        "outputId": "4a1a08ac-b75e-4dda-ffb6-afa90237c342"
      },
      "source": [
        "sns.jointplot(x = 'Age' , y = 'Fare' , data = titanic, kind = 'reg');"
      ],
      "execution_count": 14,
      "outputs": [
        {
          "output_type": "display_data",
          "data": {
            "image/png": "[encoded data removed]",
            "text/plain": [
              "<Figure size 432x432 with 3 Axes>"
            ]
          },
          "metadata": {
            "tags": [],
            "needs_background": "light"
          }
        }
      ]
    },
    {
      "cell_type": "markdown",
      "metadata": {
        "id": "OhHMB-HyxHK9"
      },
      "source": [
        "# Multivariate Data Analysis"
      ]
    },
    {
      "cell_type": "code",
      "metadata": {
        "colab": {
          "base_uri": "https://localhost:8080/",
          "height": 598
        },
        "id": "mrggJAKxxRoC",
        "outputId": "6a0d3ed8-c113-4692-ea05-af53fcf4bc2a"
      },
      "source": [
        "# For multivariate data analysis  used pandas \"correlation matrix\" .  can also use seaborn \"heatmap\".\n",
        "def plotting_corr( titanic , size = 10):\n",
        "    corr = titanic.corr()\n",
        "    fig , ax = plt.subplots(figsize = (size,size))\n",
        "    cax = ax.matshow(corr)\n",
        "    fig.colorbar(cax, fraction=0.046, pad=0.04)\n",
        "    plt.title('Titanic Dataset Correlation' , fontsize=28)\n",
        "    plt.xticks(range(len(corr.columns)) , corr.columns);\n",
        "    plt.yticks(range(len(corr.columns)) , corr.columns);\n",
        "\n",
        "plotting_corr(titanic , size = 10)"
      ],
      "execution_count": 15,
      "outputs": [
        {
          "output_type": "display_data",
          "data": {
            "image/png": "[encoded data removed]",
            "text/plain": [
              "<Figure size 720x720 with 2 Axes>"
            ]
          },
          "metadata": {
            "tags": [],
            "needs_background": "light"
          }
        }
      ]
    },
    {
      "cell_type": "markdown",
      "metadata": {
        "id": "v1YtaCZYyiHo"
      },
      "source": [
        "There is a positive correlation between Fare and Survived and negative correlation between Pclass and Survived, Fare and Pclass , Age and Pclass."
      ]
    },
    {
      "cell_type": "markdown",
      "metadata": {
        "id": "CYaYn_fR0nsJ"
      },
      "source": [
        "# 1)What is the overall passengers survival ratio?"
      ]
    },
    {
      "cell_type": "code",
      "metadata": {
        "colab": {
          "base_uri": "https://localhost:8080/"
        },
        "id": "y-QcgJmt0viS",
        "outputId": "2b7da66a-0884-4b81-a822-5cd8956b2622"
      },
      "source": [
        "survived_data = titanic[titanic['Survived'] == 1]\n",
        "survived = survived_data.count().values[1]\n",
        "survival_percent = (survived/891) * 100\n",
        "print('\\033[1mThe overall passengers survival ratio is {}'.format(survival_percent),\"%\") # \\033[1m to make the line bold. \n",
        "                                                                                         # boldness not vivible while viewing on github"
      ],
      "execution_count": 16,
      "outputs": [
        {
          "output_type": "stream",
          "text": [
            "\u001b[1mThe overall passengers survival ratio is 38.38383838383838 %\n"
          ],
          "name": "stdout"
        }
      ]
    },
    {
      "cell_type": "markdown",
      "metadata": {
        "id": "sz3YSRuJ2brx"
      },
      "source": [
        "# 2)Which groups have higher chances for survival?"
      ]
    },
    {
      "cell_type": "markdown",
      "metadata": {
        "id": "tTYLXgOT3Slr"
      },
      "source": [
        "# By Gender"
      ]
    },
    {
      "cell_type": "code",
      "metadata": {
        "colab": {
          "base_uri": "https://localhost:8080/",
          "height": 143
        },
        "id": "CbzY3Qfc2auZ",
        "outputId": "7d43a5b2-c35e-4c42-998d-941a9c1a358e"
      },
      "source": [
        "genderSurvival = pd.crosstab(titanic['Survived'],titanic['Sex'])\n",
        "genderSurvival\n",
        "# 0 means not survived and 1 means survived"
      ],
      "execution_count": 17,
      "outputs": [
        {
          "output_type": "execute_result",
          "data": {
            "text/html": [
              "<div>\n",
              "<style scoped>\n",
              "    .dataframe tbody tr th:only-of-type {\n",
              "        vertical-align: middle;\n",
              "    }\n",
              "\n",
              "    .dataframe tbody tr th {\n",
              "        vertical-align: top;\n",
              "    }\n",
              "\n",
              "    .dataframe thead th {\n",
              "        text-align: right;\n",
              "    }\n",
              "</style>\n",
              "<table border=\"1\" class=\"dataframe\">\n",
              "  <thead>\n",
              "    <tr style=\"text-align: right;\">\n",
              "      <th>Sex</th>\n",
              "      <th>female</th>\n",
              "      <th>male</th>\n",
              "    </tr>\n",
              "    <tr>\n",
              "      <th>Survived</th>\n",
              "      <th></th>\n",
              "      <th></th>\n",
              "    </tr>\n",
              "  </thead>\n",
              "  <tbody>\n",
              "    <tr>\n",
              "      <th>0</th>\n",
              "      <td>81</td>\n",
              "      <td>468</td>\n",
              "    </tr>\n",
              "    <tr>\n",
              "      <th>1</th>\n",
              "      <td>233</td>\n",
              "      <td>109</td>\n",
              "    </tr>\n",
              "  </tbody>\n",
              "</table>\n",
              "</div>"
            ],
            "text/plain": [
              "Sex       female  male\n",
              "Survived              \n",
              "0             81   468\n",
              "1            233   109"
            ]
          },
          "metadata": {
            "tags": []
          },
          "execution_count": 17
        }
      ]
    },
    {
      "cell_type": "markdown",
      "metadata": {
        "id": "voML385p4IkQ"
      },
      "source": [
        "Proportion of survivors by Gender :"
      ]
    },
    {
      "cell_type": "code",
      "metadata": {
        "colab": {
          "base_uri": "https://localhost:8080/"
        },
        "id": "p1MKlL-Q4KaJ",
        "outputId": "a4632d5e-b0d4-4e99-a50d-d2f37708aa06"
      },
      "source": [
        "titanic.groupby('Sex').Survived.mean() #Grouping by sex and finding survived mean"
      ],
      "execution_count": 18,
      "outputs": [
        {
          "output_type": "execute_result",
          "data": {
            "text/plain": [
              "Sex\n",
              "female    0.742038\n",
              "male      0.188908\n",
              "Name: Survived, dtype: float64"
            ]
          },
          "metadata": {
            "tags": []
          },
          "execution_count": 18
        }
      ]
    },
    {
      "cell_type": "markdown",
      "metadata": {
        "id": "auRT1xzx4TAD"
      },
      "source": [
        "**Conclusion : Female Passengers have higher chances for survival**"
      ]
    },
    {
      "cell_type": "markdown",
      "metadata": {
        "id": "WSvGRGxY4xsG"
      },
      "source": [
        "# By Pclass"
      ]
    },
    {
      "cell_type": "code",
      "metadata": {
        "colab": {
          "base_uri": "https://localhost:8080/",
          "height": 143
        },
        "id": "bHlFoS4e4sDO",
        "outputId": "48f5c927-c89d-49aa-c706-c5c2ef420b90"
      },
      "source": [
        "classSurvival = pd.crosstab(titanic['Survived'],titanic['Pclass'])\n",
        "classSurvival\n",
        "# 0 means not survived and 1 means survived"
      ],
      "execution_count": 19,
      "outputs": [
        {
          "output_type": "execute_result",
          "data": {
            "text/html": [
              "<div>\n",
              "<style scoped>\n",
              "    .dataframe tbody tr th:only-of-type {\n",
              "        vertical-align: middle;\n",
              "    }\n",
              "\n",
              "    .dataframe tbody tr th {\n",
              "        vertical-align: top;\n",
              "    }\n",
              "\n",
              "    .dataframe thead th {\n",
              "        text-align: right;\n",
              "    }\n",
              "</style>\n",
              "<table border=\"1\" class=\"dataframe\">\n",
              "  <thead>\n",
              "    <tr style=\"text-align: right;\">\n",
              "      <th>Pclass</th>\n",
              "      <th>1</th>\n",
              "      <th>2</th>\n",
              "      <th>3</th>\n",
              "    </tr>\n",
              "    <tr>\n",
              "      <th>Survived</th>\n",
              "      <th></th>\n",
              "      <th></th>\n",
              "      <th></th>\n",
              "    </tr>\n",
              "  </thead>\n",
              "  <tbody>\n",
              "    <tr>\n",
              "      <th>0</th>\n",
              "      <td>80</td>\n",
              "      <td>97</td>\n",
              "      <td>372</td>\n",
              "    </tr>\n",
              "    <tr>\n",
              "      <th>1</th>\n",
              "      <td>136</td>\n",
              "      <td>87</td>\n",
              "      <td>119</td>\n",
              "    </tr>\n",
              "  </tbody>\n",
              "</table>\n",
              "</div>"
            ],
            "text/plain": [
              "Pclass      1   2    3\n",
              "Survived              \n",
              "0          80  97  372\n",
              "1         136  87  119"
            ]
          },
          "metadata": {
            "tags": []
          },
          "execution_count": 19
        }
      ]
    },
    {
      "cell_type": "markdown",
      "metadata": {
        "id": "DWX_zHl45LlE"
      },
      "source": [
        "Proportion of survivors by Pclass:"
      ]
    },
    {
      "cell_type": "code",
      "metadata": {
        "colab": {
          "base_uri": "https://localhost:8080/"
        },
        "id": "mPeY_Ms55btv",
        "outputId": "b6e5bdfa-4971-4921-97cc-dd9a30e5174a"
      },
      "source": [
        "titanic.groupby('Pclass').Survived.mean()  #Grouping by pclass and finding survived mean"
      ],
      "execution_count": 20,
      "outputs": [
        {
          "output_type": "execute_result",
          "data": {
            "text/plain": [
              "Pclass\n",
              "1    0.629630\n",
              "2    0.472826\n",
              "3    0.242363\n",
              "Name: Survived, dtype: float64"
            ]
          },
          "metadata": {
            "tags": []
          },
          "execution_count": 20
        }
      ]
    },
    {
      "cell_type": "markdown",
      "metadata": {
        "id": "QpFYboGb5wU_"
      },
      "source": [
        "**Conclusion : Pclass 1 Passengers have higher chances for survival**"
      ]
    },
    {
      "cell_type": "markdown",
      "metadata": {
        "id": "KOXXo--k8LWx"
      },
      "source": [
        "# By Age"
      ]
    },
    {
      "cell_type": "code",
      "metadata": {
        "id": "1bcCTqaj8OAh"
      },
      "source": [
        "# binning ages\n",
        "age_labels = ['0-9', '10-19', '20-29', '30-39', '40-49', '50-59', '60-69', '70-79']\n",
        "titanic['age_group'] = pd.cut(titanic.Age, range(0, 81, 10), right=False, labels=age_labels)"
      ],
      "execution_count": 21,
      "outputs": []
    },
    {
      "cell_type": "code",
      "metadata": {
        "colab": {
          "base_uri": "https://localhost:8080/",
          "height": 318
        },
        "id": "WULJMrHr8ovZ",
        "outputId": "9a2cc5c6-4bd8-44ca-d787-1e9fa2e98207"
      },
      "source": [
        "titanic.groupby(['age_group']).size().plot(kind='bar',stacked=True)\n",
        "plt.title(\"Distribution of Age Groups\",fontsize=14)\n",
        "plt.ylabel('Count')\n",
        "plt.xlabel('Age Group');"
      ],
      "execution_count": 22,
      "outputs": [
        {
          "output_type": "display_data",
          "data": {
            "image/png": "[encoded data removed]",
            "text/plain": [
              "<Figure size 432x288 with 1 Axes>"
            ]
          },
          "metadata": {
            "tags": [],
            "needs_background": "light"
          }
        }
      ]
    },
    {
      "cell_type": "markdown",
      "metadata": {
        "id": "PoVL7MiE85nC"
      },
      "source": [
        "From the plot above we can see that the majority of passengers were aged between 20-29"
      ]
    },
    {
      "cell_type": "markdown",
      "metadata": {
        "id": "5lHmNDZ887c0"
      },
      "source": [
        "Proportion of survivors by age group :"
      ]
    },
    {
      "cell_type": "code",
      "metadata": {
        "colab": {
          "base_uri": "https://localhost:8080/"
        },
        "id": "1ma5msR_9FdO",
        "outputId": "a695b613-88f7-490c-c458-7ffe978e9684"
      },
      "source": [
        "titanic.groupby(['age_group']).Survived.mean()  #Grouping by age group and finding survived mean"
      ],
      "execution_count": 23,
      "outputs": [
        {
          "output_type": "execute_result",
          "data": {
            "text/plain": [
              "age_group\n",
              "0-9      0.612903\n",
              "10-19    0.401961\n",
              "20-29    0.350000\n",
              "30-39    0.437126\n",
              "40-49    0.382022\n",
              "50-59    0.416667\n",
              "60-69    0.315789\n",
              "70-79    0.000000\n",
              "Name: Survived, dtype: float64"
            ]
          },
          "metadata": {
            "tags": []
          },
          "execution_count": 23
        }
      ]
    },
    {
      "cell_type": "markdown",
      "metadata": {
        "id": "KtkIjdXc9PHw"
      },
      "source": [
        "**Conclusion : Passengers aged between 0-9 have the higher chances for survival**"
      ]
    },
    {
      "cell_type": "markdown",
      "metadata": {
        "id": "FqfIOzhi-zO8"
      },
      "source": [
        "# Submitted By : <a href=\"https://www.linkedin.com/in/saurabh-satapathy-692a6a1b9\">Saurabh Satapathy</a> "
      ]
    }
  ]
}